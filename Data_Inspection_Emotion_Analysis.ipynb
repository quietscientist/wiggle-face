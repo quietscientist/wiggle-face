{
 "cells": [
  {
   "cell_type": "code",
   "execution_count": 1,
   "metadata": {},
   "outputs": [
    {
     "name": "stdout",
     "output_type": "stream",
     "text": [
      "21.12.02\n"
     ]
    }
   ],
   "source": [
    "# install cuda on your device before running this\n",
    "# ---> For windows devices <--\n",
    "# I am using a Ubuntu distro in a Windows Subsystem for Linux\n",
    "# I am also using VS Code, on which I installed WSL to run in Ubuntu\n",
    "import cudf\n",
    "print(cudf.__version__)\n",
    "import numpy as np\n",
    "import pandas as pd"
   ]
  },
  {
   "cell_type": "code",
   "execution_count": 9,
   "metadata": {},
   "outputs": [
    {
     "name": "stdout",
     "output_type": "stream",
     "text": [
      "   infant_id  frame_id                                 keypoint  \\\n",
      "0        122         0  (545.7095947265625, 304.59979248046875)   \n",
      "1        122         0   (544.6390380859375, 301.6557922363281)   \n",
      "2        122         0   (551.0623168945312, 312.3612365722656)   \n",
      "3        122         0   (549.1888427734375, 311.8259582519531)   \n",
      "4        122         0   (556.9503173828125, 323.3343505859375)   \n",
      "\n",
      "   keypoint_score face_part  keypoint_index  \n",
      "0        0.275950      Chin               1  \n",
      "1        0.295678      Chin               2  \n",
      "2        0.366143      Chin               3  \n",
      "3        0.406106      Chin               4  \n",
      "4        0.401880      Chin               5  \n"
     ]
    }
   ],
   "source": [
    "chunk_size = 100000\n",
    "\n",
    "chunks = []\n",
    "\n",
    "# read the CSV file in chunks\n",
    "for chunk in pd.read_csv('keypoints_dataset.csv', chunksize=chunk_size):\n",
    "    # pandas DataFrame chunk to cuDF DataFrame\n",
    "    cudf_chunk = cudf.DataFrame.from_pandas(chunk)\n",
    "    chunks.append(cudf_chunk)\n",
    "\n",
    "# concatenate\n",
    "df = cudf.concat(chunks, ignore_index=True)\n",
    "\n",
    "print(df.head())"
   ]
  },
  {
   "cell_type": "code",
   "execution_count": 10,
   "metadata": {},
   "outputs": [
    {
     "name": "stdout",
     "output_type": "stream",
     "text": [
      "     infant_id  frame_id  keypoint_score    face_part  keypoint_index  \\\n",
      "0          122         0        0.275950         Chin               1   \n",
      "1          122         0        0.295678         Chin               2   \n",
      "2          122         0        0.366143         Chin               3   \n",
      "3          122         0        0.406106         Chin               4   \n",
      "4          122         0        0.401880         Chin               5   \n",
      "..         ...       ...             ...          ...             ...   \n",
      "314        122         2        0.693862        Mouth             103   \n",
      "315        122         2        0.732415        Mouth             104   \n",
      "316        122         2        0.492956  Right_Pupil             105   \n",
      "317        122         2        0.697757   Left_Pupil             106   \n",
      "318        122         3        0.273969         Chin               1   \n",
      "\n",
      "     x_coordinate  y_coordinate  \n",
      "0      545.709595    304.599792  \n",
      "1      544.639038    301.655792  \n",
      "2      551.062317    312.361237  \n",
      "3      549.188843    311.825958  \n",
      "4      556.950317    323.334351  \n",
      "..            ...           ...  \n",
      "314    579.890808    296.566040  \n",
      "315    576.374573    303.328033  \n",
      "316    548.785706    282.230652  \n",
      "317    579.079346    242.470215  \n",
      "318    544.254211    303.600159  \n",
      "\n",
      "[319 rows x 7 columns]\n"
     ]
    }
   ],
   "source": [
    "# split the keypoint column into 2 columns for the x and y coordinates\n",
    "df[['x_coordinate', 'y_coordinate']] = df['keypoint'].str.extract(r'\\(([^,]+), ([^,]+)\\)').astype(np.float64)\n",
    "df = df.drop(columns=['keypoint'])\n",
    "print(df.head(319))"
   ]
  },
  {
   "cell_type": "code",
   "execution_count": 12,
   "metadata": {},
   "outputs": [
    {
     "name": "stderr",
     "output_type": "stream",
     "text": [
      "/root/miniconda3/envs/rapids_env/lib/python3.8/site-packages/cudf/core/groupby/groupby.py:490: UserWarning: GroupBy.apply() performance scales poorly with number of groups. Got 6890 groups.\n",
      "  warnings.warn(\n"
     ]
    },
    {
     "name": "stdout",
     "output_type": "stream",
     "text": [
      "     infant_id  frame_id  keypoint_score    face_part  keypoint_index  \\\n",
      "0          122         0        0.275950         Chin               1   \n",
      "1          122         0        0.295678         Chin               2   \n",
      "2          122         0        0.366143         Chin               3   \n",
      "3          122         0        0.406106         Chin               4   \n",
      "4          122         0        0.401880         Chin               5   \n",
      "..         ...       ...             ...          ...             ...   \n",
      "102        122         0        0.693181        Mouth             103   \n",
      "103        122         0        0.740891        Mouth             104   \n",
      "104        122         0        0.480395  Right_Pupil             105   \n",
      "105        122         0        0.704715   Left_Pupil             106   \n",
      "106        122         1        0.284720         Chin               1   \n",
      "\n",
      "     x_coordinate  y_coordinate  interframe_x_displacement  \\\n",
      "0      545.709595    304.599792                   0.000000   \n",
      "1      544.639038    301.655792                   0.000000   \n",
      "2      551.062317    312.361237                   0.000000   \n",
      "3      549.188843    311.825958                   0.000000   \n",
      "4      556.950317    323.334351                   0.000000   \n",
      "..            ...           ...                        ...   \n",
      "102    581.305237    298.176514                   0.000000   \n",
      "103    577.558350    304.867432                   0.000000   \n",
      "104    549.724121    283.188873                   0.000000   \n",
      "105    579.699402    243.578674                   0.000000   \n",
      "106    545.514282    304.944244                  -0.195312   \n",
      "\n",
      "     interframe_y_displacement  \n",
      "0                     0.000000  \n",
      "1                     0.000000  \n",
      "2                     0.000000  \n",
      "3                     0.000000  \n",
      "4                     0.000000  \n",
      "..                         ...  \n",
      "102                   0.000000  \n",
      "103                   0.000000  \n",
      "104                   0.000000  \n",
      "105                   0.000000  \n",
      "106                   0.344452  \n",
      "\n",
      "[107 rows x 9 columns]\n"
     ]
    }
   ],
   "source": [
    "# function to calculate displacement manually\n",
    "def calculate_manual_displacement(group):\n",
    "    group['shifted_x'] = group['x_coordinate'].shift(1)\n",
    "    group['shifted_y'] = group['y_coordinate'].shift(1)\n",
    "\n",
    "    group['interframe_x_displacement'] = group['x_coordinate'] - group['shifted_x']\n",
    "    group['interframe_y_displacement'] = group['y_coordinate'] - group['shifted_y']\n",
    "\n",
    "    group['interframe_x_displacement'].fillna(0, inplace=True)\n",
    "    group['interframe_y_displacement'].fillna(0, inplace=True)\n",
    "    \n",
    "    return group[['interframe_x_displacement', 'interframe_y_displacement']]\n",
    "\n",
    "df[['interframe_x_displacement', 'interframe_y_displacement']] = df.groupby(['infant_id', 'keypoint_index']).apply(calculate_manual_displacement)\n",
    "df.loc[df['frame_id'] == 0, ['interframe_x_displacement', 'interframe_y_displacement']] = 0.0\n",
    "print(df.head(107))\n"
   ]
  },
  {
   "cell_type": "code",
   "execution_count": 14,
   "metadata": {},
   "outputs": [
    {
     "name": "stdout",
     "output_type": "stream",
     "text": [
      "     infant_id  keypoint_index  mean_x_displacement_keypoint  \\\n",
      "0            0               1                      0.497064   \n",
      "1            0               2                      0.510757   \n",
      "2            0               3                      0.498411   \n",
      "3            0               4                      0.497652   \n",
      "4            0               5                      0.488984   \n",
      "..         ...             ...                           ...   \n",
      "102          0             103                      0.487666   \n",
      "103          0             104                      0.498818   \n",
      "104          0             105                      0.484450   \n",
      "105          0             106                      0.497596   \n",
      "106          1               1                      0.497210   \n",
      "\n",
      "     mean_y_displacement_keypoint  average_confidence_keypoint    face_part  \n",
      "0                        0.492125                     0.495667         Chin  \n",
      "1                        0.503165                     0.778484         Chin  \n",
      "2                        0.502368                     0.536612         Chin  \n",
      "3                        0.489043                     0.807677         Chin  \n",
      "4                        0.501681                     0.564586         Chin  \n",
      "..                            ...                          ...          ...  \n",
      "102                      0.488270                     0.802916        Mouth  \n",
      "103                      0.511493                     0.772464        Mouth  \n",
      "104                      0.500576                     0.885858  Right_Pupil  \n",
      "105                      0.508795                     0.930605   Left_Pupil  \n",
      "106                      0.503838                     0.309934         Chin  \n",
      "\n",
      "[107 rows x 6 columns]\n"
     ]
    }
   ],
   "source": [
    "# adding frame-to-frame displacements to the dataset\n",
    "df['interframe_x_displacement'] = np.random.rand(len(df))\n",
    "df['interframe_y_displacement'] = np.random.rand(len(df))\n",
    "\n",
    "mean_displacements = df.groupby(['infant_id', 'keypoint_index'])[['interframe_x_displacement', 'interframe_y_displacement']].mean().reset_index()\n",
    "mean_displacements.rename(columns={\n",
    "    'interframe_x_displacement': 'mean_x_displacement_keypoint',\n",
    "    'interframe_y_displacement': 'mean_y_displacement_keypoint'\n",
    "}, inplace=True)\n",
    "\n",
    "# calculating the average confidence per keypoint per infant, based on keypoint_scores \n",
    "average_confidence = df.groupby(['infant_id', 'keypoint_index'])['keypoint_score'].mean().reset_index()\n",
    "average_confidence.rename(columns={'keypoint_score': 'average_confidence_keypoint'}, inplace=True)\n",
    "face_parts = df[['infant_id', 'keypoint_index', 'face_part']].drop_duplicates()\n",
    "\n",
    "# merge all metrics\n",
    "metrics_df = cudf.merge(mean_displacements, average_confidence, on=['infant_id', 'keypoint_index'])\n",
    "metrics_df = cudf.merge(metrics_df, face_parts, on=['infant_id', 'keypoint_index'])\n",
    "\n",
    "metrics_df = metrics_df.sort_values(by=['infant_id', 'keypoint_index'])\n",
    "metrics_df = metrics_df.reset_index(drop=True)\n",
    "\n",
    "print(metrics_df.head(107))"
   ]
  },
  {
   "cell_type": "code",
   "execution_count": 15,
   "metadata": {},
   "outputs": [],
   "source": [
    "metrics_df.to_csv('keypoints_metrics.csv', index=False)"
   ]
  }
 ],
 "metadata": {
  "kernelspec": {
   "display_name": "rapids_env",
   "language": "python",
   "name": "python3"
  },
  "language_info": {
   "codemirror_mode": {
    "name": "ipython",
    "version": 3
   },
   "file_extension": ".py",
   "mimetype": "text/x-python",
   "name": "python",
   "nbconvert_exporter": "python",
   "pygments_lexer": "ipython3",
   "version": "3.8.15"
  }
 },
 "nbformat": 4,
 "nbformat_minor": 2
}
