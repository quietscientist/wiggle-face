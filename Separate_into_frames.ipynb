{
 "cells": [
  {
   "cell_type": "code",
   "execution_count": 1,
   "metadata": {},
   "outputs": [],
   "source": [
    "import cv2\n",
    "import os"
   ]
  },
  {
   "cell_type": "code",
   "execution_count": 2,
   "metadata": {},
   "outputs": [],
   "source": [
    "def extract_frames(video_path, output_folder, fps=5):\n",
    "    cap = cv2.VideoCapture(video_path)\n",
    "    if not cap.isOpened():\n",
    "        print(f\"Error: Could not open video {video_path}\")\n",
    "        return\n",
    "\n",
    "    # interval between frames to capture\n",
    "    video_fps = cap.get(cv2.CAP_PROP_FPS)\n",
    "    frame_interval = int(video_fps / fps)\n",
    "\n",
    "    frame_count = 0\n",
    "    saved_frame_count = 0\n",
    "\n",
    "    while True:\n",
    "        ret, frame = cap.read()\n",
    "        if not ret:\n",
    "            break\n",
    "\n",
    "        if frame_count % frame_interval == 0:\n",
    "            frame_filename = os.path.join(output_folder, f\"frame_{saved_frame_count:06d}.png\")\n",
    "            cv2.imwrite(frame_filename, frame)\n",
    "            saved_frame_count += 1\n",
    "\n",
    "        frame_count += 1\n",
    "\n",
    "    cap.release()\n",
    "\n",
    "# modify number of videos and fps if needed\n",
    "def process_videos(input_folder, output_folder, num_videos=20, fps=5):\n",
    "    if not os.path.exists(output_folder):\n",
    "        os.makedirs(output_folder)\n",
    "\n",
    "    video_files = [f for f in os.listdir(input_folder) if f.endswith(('.mp4', '.avi', '.mov'))]\n",
    "    video_files.sort() \n",
    "\n",
    "    for i, video_file in enumerate(video_files[:num_videos]):\n",
    "        video_path = os.path.join(input_folder, video_file)\n",
    "        video_output_folder = os.path.join(output_folder, f\"video_{i:06d}\")\n",
    "\n",
    "        if not os.path.exists(video_output_folder):\n",
    "            os.makedirs(video_output_folder)\n",
    "\n",
    "        print(f\"Processing {video_path}...\")\n",
    "        extract_frames(video_path, video_output_folder, fps)\n",
    "        print(f\"Finished processing {video_path}\")"
   ]
  },
  {
   "cell_type": "code",
   "execution_count": 3,
   "metadata": {},
   "outputs": [
    {
     "name": "stdout",
     "output_type": "stream",
     "text": [
      "Processing /workspaces/wiggle-face/data_ioana/Infant Sentiment Analysis/YT/orig_videos/video_000000.mp4...\n",
      "Finished processing /workspaces/wiggle-face/data_ioana/Infant Sentiment Analysis/YT/orig_videos/video_000000.mp4\n",
      "Processing /workspaces/wiggle-face/data_ioana/Infant Sentiment Analysis/YT/orig_videos/video_000001.mp4...\n",
      "Finished processing /workspaces/wiggle-face/data_ioana/Infant Sentiment Analysis/YT/orig_videos/video_000001.mp4\n",
      "Processing /workspaces/wiggle-face/data_ioana/Infant Sentiment Analysis/YT/orig_videos/video_000004.mov...\n",
      "Finished processing /workspaces/wiggle-face/data_ioana/Infant Sentiment Analysis/YT/orig_videos/video_000004.mov\n",
      "Processing /workspaces/wiggle-face/data_ioana/Infant Sentiment Analysis/YT/orig_videos/video_000005.mp4...\n",
      "Finished processing /workspaces/wiggle-face/data_ioana/Infant Sentiment Analysis/YT/orig_videos/video_000005.mp4\n",
      "Processing /workspaces/wiggle-face/data_ioana/Infant Sentiment Analysis/YT/orig_videos/video_000011.mp4...\n",
      "Finished processing /workspaces/wiggle-face/data_ioana/Infant Sentiment Analysis/YT/orig_videos/video_000011.mp4\n",
      "Processing /workspaces/wiggle-face/data_ioana/Infant Sentiment Analysis/YT/orig_videos/video_000021.mp4...\n",
      "Finished processing /workspaces/wiggle-face/data_ioana/Infant Sentiment Analysis/YT/orig_videos/video_000021.mp4\n",
      "Processing /workspaces/wiggle-face/data_ioana/Infant Sentiment Analysis/YT/orig_videos/video_000031.mp4...\n",
      "Finished processing /workspaces/wiggle-face/data_ioana/Infant Sentiment Analysis/YT/orig_videos/video_000031.mp4\n",
      "Processing /workspaces/wiggle-face/data_ioana/Infant Sentiment Analysis/YT/orig_videos/video_000047.mp4...\n",
      "Finished processing /workspaces/wiggle-face/data_ioana/Infant Sentiment Analysis/YT/orig_videos/video_000047.mp4\n",
      "Processing /workspaces/wiggle-face/data_ioana/Infant Sentiment Analysis/YT/orig_videos/video_000052.mp4...\n",
      "Finished processing /workspaces/wiggle-face/data_ioana/Infant Sentiment Analysis/YT/orig_videos/video_000052.mp4\n",
      "Processing /workspaces/wiggle-face/data_ioana/Infant Sentiment Analysis/YT/orig_videos/video_000059.mp4...\n",
      "Finished processing /workspaces/wiggle-face/data_ioana/Infant Sentiment Analysis/YT/orig_videos/video_000059.mp4\n",
      "Processing /workspaces/wiggle-face/data_ioana/Infant Sentiment Analysis/YT/orig_videos/video_000068.mp4...\n",
      "Finished processing /workspaces/wiggle-face/data_ioana/Infant Sentiment Analysis/YT/orig_videos/video_000068.mp4\n",
      "Processing /workspaces/wiggle-face/data_ioana/Infant Sentiment Analysis/YT/orig_videos/video_000070.mp4...\n",
      "Finished processing /workspaces/wiggle-face/data_ioana/Infant Sentiment Analysis/YT/orig_videos/video_000070.mp4\n",
      "Processing /workspaces/wiggle-face/data_ioana/Infant Sentiment Analysis/YT/orig_videos/video_000071.mp4...\n",
      "Finished processing /workspaces/wiggle-face/data_ioana/Infant Sentiment Analysis/YT/orig_videos/video_000071.mp4\n",
      "Processing /workspaces/wiggle-face/data_ioana/Infant Sentiment Analysis/YT/orig_videos/video_000072.mp4...\n",
      "Finished processing /workspaces/wiggle-face/data_ioana/Infant Sentiment Analysis/YT/orig_videos/video_000072.mp4\n",
      "Processing /workspaces/wiggle-face/data_ioana/Infant Sentiment Analysis/YT/orig_videos/video_000073.mp4...\n",
      "Finished processing /workspaces/wiggle-face/data_ioana/Infant Sentiment Analysis/YT/orig_videos/video_000073.mp4\n",
      "Processing /workspaces/wiggle-face/data_ioana/Infant Sentiment Analysis/YT/orig_videos/video_000077.mp4...\n",
      "Finished processing /workspaces/wiggle-face/data_ioana/Infant Sentiment Analysis/YT/orig_videos/video_000077.mp4\n",
      "Processing /workspaces/wiggle-face/data_ioana/Infant Sentiment Analysis/YT/orig_videos/video_000079.mp4...\n",
      "Finished processing /workspaces/wiggle-face/data_ioana/Infant Sentiment Analysis/YT/orig_videos/video_000079.mp4\n",
      "Processing /workspaces/wiggle-face/data_ioana/Infant Sentiment Analysis/YT/orig_videos/video_000086.mp4...\n",
      "Finished processing /workspaces/wiggle-face/data_ioana/Infant Sentiment Analysis/YT/orig_videos/video_000086.mp4\n",
      "Processing /workspaces/wiggle-face/data_ioana/Infant Sentiment Analysis/YT/orig_videos/video_000088.mp4...\n",
      "Finished processing /workspaces/wiggle-face/data_ioana/Infant Sentiment Analysis/YT/orig_videos/video_000088.mp4\n",
      "Processing /workspaces/wiggle-face/data_ioana/Infant Sentiment Analysis/YT/orig_videos/video_000089.mp4...\n",
      "Finished processing /workspaces/wiggle-face/data_ioana/Infant Sentiment Analysis/YT/orig_videos/video_000089.mp4\n"
     ]
    }
   ],
   "source": [
    "input_folder = \"/workspaces/wiggle-face/data_ioana/Infant Sentiment Analysis/YT/orig_videos\"\n",
    "output_folder = \"/workspaces/wiggle-face/frames_first_20_videos\"\n",
    "process_videos(input_folder, output_folder)"
   ]
  }
 ],
 "metadata": {
  "kernelspec": {
   "display_name": "Python 3 (ipykernel)",
   "language": "python",
   "name": "python3"
  },
  "language_info": {
   "codemirror_mode": {
    "name": "ipython",
    "version": 3
   },
   "file_extension": ".py",
   "mimetype": "text/x-python",
   "name": "python",
   "nbconvert_exporter": "python",
   "pygments_lexer": "ipython3",
   "version": "3.8.19"
  }
 },
 "nbformat": 4,
 "nbformat_minor": 2
}
